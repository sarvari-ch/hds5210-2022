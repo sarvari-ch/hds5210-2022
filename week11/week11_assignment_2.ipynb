{
 "cells": [
  {
   "cell_type": "markdown",
   "metadata": {},
   "source": [
    "# Week 11 Assignment\n",
    "\n",
    "Because I was unable to conduct our workshop this week, I'm keeping the assignment light as well.  Below you'll find just two steps for this week: one programming exercise and then a planning activity for your final project.\n",
    "\n",
    "For clarification, the \"final project\" I've been referring to is your \"final.\"  It is not a project in addition to a final exam.  They're one-in-the-same.\n",
    "\n",
    "Please do the programming exercise and verify that your code works using the tests, then think about your final project and fill out the questions in the second part.\n",
    "\n",
    "---\n",
    "---"
   ]
  },
  {
   "cell_type": "markdown",
   "metadata": {},
   "source": [
    "### 47.1: Filtering and summarizing data\n",
    "\n",
    "For this work, you'll find a data file in `/data/complications_all.csv`.\n",
    "\n",
    "Read in the data file and create a variable called `mo_hospitals` that contains a data frame from the `complications_all.csv` file, filtered down to only contain those hospitals from the state of Missouri (MO).\n",
    "\n",
    "Then aggregate that data by hospital into a variable named `mo_summary`.  There are some key fields that we want to summarize:\n",
    "* We want to know the earliest date that each hospital was participating in any program\n",
    "* We want to know the latest date that each hospital stopped participating in any program\n",
    "* We want to know the total number of patients in the denominators of these programs\n",
    "\n",
    "Some things to note:\n",
    "* You will need to convert the `Start Date` and `End Date` to actual datetime fields\n",
    "* You will need to clean up and convert the `Denominator` field to just be numeric - the rule that you should use it to simply remove any records where the `Denominator` is `'Not Available'`\n",
    "\n",
    "\n",
    "The final result of this step should be a new data frame called `mo_summary` that contains one row for each hospital and contains the min start date, max end date, and total denominator.  Use the names `start_date`, `end_date`, and `number` for those columns in `mo_summary`.\n",
    "\n",
    "\n",
    "You do not need to create your code in the form of a function, just make sure your variable names match what I've described above so the tests work."
   ]
  },
  {
   "cell_type": "code",
   "execution_count": 1,
   "metadata": {},
   "outputs": [],
   "source": [
    "import pandas as pd\n",
    "# This is just to show you the name to use for the variable you need to create for this step to pass.\n",
    "\n",
    "df = pd.read_csv(\"/data/complications_all.csv\")\n",
    "mo_hospitals = df.loc[(df['State'] == 'MO')]\n"
   ]
  },
  {
   "cell_type": "code",
   "execution_count": 2,
   "metadata": {},
   "outputs": [],
   "source": [
    "# These assertions will help make sure that you're on the right track.\n",
    "assert(mo_hospitals['State'].unique() == ['MO'])\n",
    "assert(mo_hospitals.shape == (2133,18))"
   ]
  },
  {
   "cell_type": "code",
   "execution_count": 3,
   "metadata": {},
   "outputs": [],
   "source": [
    "mo_hospitals = mo_hospitals.loc[(mo_hospitals['Denominator'] != 'Not Available')]\n",
    "mo_hospitals[\"Start Date\"] = pd.to_datetime(mo_hospitals['Start Date'])\n",
    "mo_hospitals[\"End Date\"] = pd.to_datetime(mo_hospitals['End Date'])\n",
    "mo_hospitals['Denominator'] = pd.to_numeric(mo_hospitals['Denominator'])\n",
    "mo_summary = pd.DataFrame().assign(facility_name=mo_hospitals['Facility Name'], start_date = mo_hospitals['Start Date'], end_date=mo_hospitals['End Date'], number = mo_hospitals['Denominator']).groupby('facility_name').aggregate({'number':'sum','start_date':'min','end_date':'max'})\n",
    "\n"
   ]
  },
  {
   "cell_type": "code",
   "execution_count": null,
   "metadata": {},
   "outputs": [],
   "source": []
  },
  {
   "cell_type": "code",
   "execution_count": 4,
   "metadata": {},
   "outputs": [
    {
     "data": {
      "text/html": [
       "<div>\n",
       "<style scoped>\n",
       "    .dataframe tbody tr th:only-of-type {\n",
       "        vertical-align: middle;\n",
       "    }\n",
       "\n",
       "    .dataframe tbody tr th {\n",
       "        vertical-align: top;\n",
       "    }\n",
       "\n",
       "    .dataframe thead th {\n",
       "        text-align: right;\n",
       "    }\n",
       "</style>\n",
       "<table border=\"1\" class=\"dataframe\">\n",
       "  <thead>\n",
       "    <tr style=\"text-align: right;\">\n",
       "      <th></th>\n",
       "      <th>number</th>\n",
       "      <th>start_date</th>\n",
       "      <th>end_date</th>\n",
       "    </tr>\n",
       "    <tr>\n",
       "      <th>facility_name</th>\n",
       "      <th></th>\n",
       "      <th></th>\n",
       "      <th></th>\n",
       "    </tr>\n",
       "  </thead>\n",
       "  <tbody>\n",
       "    <tr>\n",
       "      <th>BARNES JEWISH HOSPITAL</th>\n",
       "      <td>131313</td>\n",
       "      <td>2015-04-01</td>\n",
       "      <td>2018-06-30</td>\n",
       "    </tr>\n",
       "    <tr>\n",
       "      <th>BARNES-JEWISH ST PETERS HOSPITAL</th>\n",
       "      <td>15668</td>\n",
       "      <td>2015-04-01</td>\n",
       "      <td>2018-06-30</td>\n",
       "    </tr>\n",
       "    <tr>\n",
       "      <th>BARNES-JEWISH WEST COUNTY HOSPITAL</th>\n",
       "      <td>9622</td>\n",
       "      <td>2015-04-01</td>\n",
       "      <td>2018-06-30</td>\n",
       "    </tr>\n",
       "    <tr>\n",
       "      <th>BATES COUNTY MEMORIAL HOSPITAL</th>\n",
       "      <td>3117</td>\n",
       "      <td>2015-07-01</td>\n",
       "      <td>2018-06-30</td>\n",
       "    </tr>\n",
       "    <tr>\n",
       "      <th>BELTON REGIONAL MEDICAL CENTER</th>\n",
       "      <td>9270</td>\n",
       "      <td>2015-04-01</td>\n",
       "      <td>2018-06-30</td>\n",
       "    </tr>\n",
       "    <tr>\n",
       "      <th>...</th>\n",
       "      <td>...</td>\n",
       "      <td>...</td>\n",
       "      <td>...</td>\n",
       "    </tr>\n",
       "    <tr>\n",
       "      <th>TRUMAN MEDICAL CENTER LAKEWOOD</th>\n",
       "      <td>4297</td>\n",
       "      <td>2015-04-01</td>\n",
       "      <td>2018-06-30</td>\n",
       "    </tr>\n",
       "    <tr>\n",
       "      <th>UNIVERSITY OF MISSOURI HEALTH CARE</th>\n",
       "      <td>56493</td>\n",
       "      <td>2015-04-01</td>\n",
       "      <td>2018-06-30</td>\n",
       "    </tr>\n",
       "    <tr>\n",
       "      <th>WASHINGTON COUNTY MEMORIAL HOSPITAL</th>\n",
       "      <td>220</td>\n",
       "      <td>2015-07-01</td>\n",
       "      <td>2018-06-30</td>\n",
       "    </tr>\n",
       "    <tr>\n",
       "      <th>WESTERN MISSOURI MEDICAL CENTER</th>\n",
       "      <td>7254</td>\n",
       "      <td>2015-04-01</td>\n",
       "      <td>2018-06-30</td>\n",
       "    </tr>\n",
       "    <tr>\n",
       "      <th>WRIGHT MEMORIAL HOSPITAL</th>\n",
       "      <td>198</td>\n",
       "      <td>2015-07-01</td>\n",
       "      <td>2018-06-30</td>\n",
       "    </tr>\n",
       "  </tbody>\n",
       "</table>\n",
       "<p>108 rows × 3 columns</p>\n",
       "</div>"
      ],
      "text/plain": [
       "                                     number start_date   end_date\n",
       "facility_name                                                    \n",
       "BARNES JEWISH HOSPITAL               131313 2015-04-01 2018-06-30\n",
       "BARNES-JEWISH ST PETERS HOSPITAL      15668 2015-04-01 2018-06-30\n",
       "BARNES-JEWISH WEST COUNTY HOSPITAL     9622 2015-04-01 2018-06-30\n",
       "BATES COUNTY MEMORIAL HOSPITAL         3117 2015-07-01 2018-06-30\n",
       "BELTON REGIONAL MEDICAL CENTER         9270 2015-04-01 2018-06-30\n",
       "...                                     ...        ...        ...\n",
       "TRUMAN MEDICAL CENTER LAKEWOOD         4297 2015-04-01 2018-06-30\n",
       "UNIVERSITY OF MISSOURI HEALTH CARE    56493 2015-04-01 2018-06-30\n",
       "WASHINGTON COUNTY MEMORIAL HOSPITAL     220 2015-07-01 2018-06-30\n",
       "WESTERN MISSOURI MEDICAL CENTER        7254 2015-04-01 2018-06-30\n",
       "WRIGHT MEMORIAL HOSPITAL                198 2015-07-01 2018-06-30\n",
       "\n",
       "[108 rows x 3 columns]"
      ]
     },
     "execution_count": 4,
     "metadata": {},
     "output_type": "execute_result"
    }
   ],
   "source": [
    "mo_summary"
   ]
  },
  {
   "cell_type": "code",
   "execution_count": 5,
   "metadata": {},
   "outputs": [],
   "source": [
    "assert(mo_summary['number'].sum() == 1766908)\n",
    "assert(mo_summary['start_date'].min() == pd.Timestamp(2015,4,1))\n",
    "assert(mo_summary['end_date'].max() == pd.Timestamp(2018,6,30))\n",
    "assert(mo_summary.shape == (108,3))\n",
    "assert(mo_summary.loc['BARNES JEWISH HOSPITAL'].number == 131313)\n",
    "assert(mo_summary.loc['BOONE HOSPITAL CENTER'].number == 63099)"
   ]
  },
  {
   "cell_type": "markdown",
   "metadata": {},
   "source": [
    "---\n",
    "\n",
    "### 47.2 Planning your final project\n",
    "\n",
    "You should be thinking about the things we've been learning and how you can apply them to your final project.  Use the rubric to help guid your thinking and then answer the questions below.  This is meant as a guide to help you think through what you will do."
   ]
  },
  {
   "cell_type": "markdown",
   "metadata": {},
   "source": [
    "#### A) Data Access\n",
    "\n",
    "Your project should include data from at least three distinct types of sources.  For example: AWS S3, Relational Databases, Internet, Web Services, local files.  List what data sources you're planning to use."
   ]
  },
  {
   "cell_type": "markdown",
   "metadata": {},
   "source": [
    "**Double-click to enter your answer**\n",
    "\n",
    "Internet, Web Services\n"
   ]
  },
  {
   "cell_type": "markdown",
   "metadata": {},
   "source": [
    "#### B. Data Formats\n",
    "\n",
    "Your project should include data that comes in different file formats.  For example: HL7, EDI, HTML, CSV, Excel, JSON, XML.  List what data formats you're planning to use."
   ]
  },
  {
   "cell_type": "markdown",
   "metadata": {},
   "source": [
    "**Double-click to enter your answer**\n",
    "\n",
    "Csv,\n",
    "Excel\n",
    "\n",
    "\n",
    "\n",
    "\n",
    "\n"
   ]
  },
  {
   "cell_type": "markdown",
   "metadata": {},
   "source": [
    "#### C. Objective\n",
    "\n",
    "What purpose would your project serve in a real work setting?  Take a couple of paragraphs to write down why this is an interesting product."
   ]
  },
  {
   "cell_type": "markdown",
   "metadata": {},
   "source": [
    "**Double-click to enter your answer**\n",
    "\n",
    "Introduction to heart disease, including causative factors and the disease's global impact.\n",
    "\n",
    "Cardiovascular diseases (CVDs), principally ischemic heart disease (IHD) and stroke, are the leading cause of global mortality and a major contributor to disability.\n",
    "\n",
    "The goal is to determine how much of an age, gender, BMI, diabetes, and sedentary lifestyle can cause heart disease. In addition, I'd like to know how much heart disease can affect and how much this disease can cause kidney disease.\n",
    "\n",
    "Patients with chronic kidney disease (CKD) exhibit an elevated cardiovascular risk manifesting as coronary artery disease, heart failure, arrhythmias, and sudden cardiac death.\n",
    "\n",
    "Patients with CKD have high cardiovascular risk, with cardiovascular death being the leading cause of death. Several novel therapies to decrease the risk of cardiovascular diseases in CKD are in clinical development or have been already established, raising the hope that cardiovascular risk in patients with CKD may be modifiable in the future.\n"
   ]
  },
  {
   "cell_type": "markdown",
   "metadata": {},
   "source": [
    "\n",
    "\n",
    "---\n",
    "\n",
    "\n",
    "\n",
    "## Submit your work via GitHub as normal\n"
   ]
  }
 ],
 "metadata": {
  "kernelspec": {
   "display_name": "Python 3",
   "language": "python",
   "name": "python3"
  },
  "language_info": {
   "codemirror_mode": {
    "name": "ipython",
    "version": 3
   },
   "file_extension": ".py",
   "mimetype": "text/x-python",
   "name": "python",
   "nbconvert_exporter": "python",
   "pygments_lexer": "ipython3",
   "version": "3.6.7"
  }
 },
 "nbformat": 4,
 "nbformat_minor": 4
}
