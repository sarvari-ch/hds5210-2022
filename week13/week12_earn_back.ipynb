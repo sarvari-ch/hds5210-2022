{
 "cells": [
  {
   "cell_type": "markdown",
   "metadata": {},
   "source": [
    "# Week 12 - Earn-Back Points Assignment #2\n",
    "\n",
    "These exercises are entirely optional, but they provide good practice. And you can use them to earn extra points toward your semester grade.  Completing all the questions in this assignment correctly will earn you back 8 points.\n",
    "\n",
    "There will be 2 more assignments like this between now and the end of the semester, giving you the opportunity to earn back a total of 32 points.\n",
    "\n",
    "**If anything about the above rules is unclear, please message me on Canvas or via email**"
   ]
  },
  {
   "cell_type": "markdown",
   "metadata": {},
   "source": [
    "---"
   ]
  },
  {
   "cell_type": "markdown",
   "metadata": {},
   "source": [
    "## Introduction\n",
    "\n",
    "The Centers for Medicare and Medicaid Services (CMS) provides lots of information online including a general directory of hospitals in the US. For this set of exercises, we'll be working with a file referred to as [Hospital General Information](https://data.cms.gov/provider-data/dataset/xubh-q36u). **Download this file as a CSV and upload it to your week 13 directory on Jupyter.**\n",
    "\n",
    "Each of these exercises will involve finding an answer to a specific question and then submitting that.  Your answers must be computed using Python code within this notebook to earn full credit.\n",
    "\n",
    "You do not need to write functions to compute the answers and do not need to provide any special documentation. You can simply calculate the answers inline in the notebook and then submit your answers using the `answers` dictionary, similar to how most of our part 1 assignments work.\n"
   ]
  },
  {
   "cell_type": "code",
   "execution_count": 1,
   "metadata": {},
   "outputs": [],
   "source": [
    "import pandas as pd\n",
    "answers = {}\n",
    "df = pd.read_csv('Hospital_General_Information.csv')"
   ]
  },
  {
   "cell_type": "markdown",
   "metadata": {},
   "source": [
    "---"
   ]
  },
  {
   "cell_type": "markdown",
   "metadata": {},
   "source": [
    "## Tips\n",
    "\n",
    "Before you get started, I want to show you a pattern that you might find useful. In the example below, I'm going to summarize a simple data frame, determine which name occurs most often, how often that is, and what the percent of total that represents.  This can be a useful pattern in general and you should be able to apply it below."
   ]
  },
  {
   "cell_type": "code",
   "execution_count": 2,
   "metadata": {},
   "outputs": [
    {
     "data": {
      "text/html": [
       "<div>\n",
       "<style scoped>\n",
       "    .dataframe tbody tr th:only-of-type {\n",
       "        vertical-align: middle;\n",
       "    }\n",
       "\n",
       "    .dataframe tbody tr th {\n",
       "        vertical-align: top;\n",
       "    }\n",
       "\n",
       "    .dataframe thead th {\n",
       "        text-align: right;\n",
       "    }\n",
       "</style>\n",
       "<table border=\"1\" class=\"dataframe\">\n",
       "  <thead>\n",
       "    <tr style=\"text-align: right;\">\n",
       "      <th></th>\n",
       "      <th>Last Name</th>\n",
       "      <th>First Name</th>\n",
       "      <th>Age</th>\n",
       "    </tr>\n",
       "  </thead>\n",
       "  <tbody>\n",
       "    <tr>\n",
       "      <th>0</th>\n",
       "      <td>Boal</td>\n",
       "      <td>Paul</td>\n",
       "      <td>45</td>\n",
       "    </tr>\n",
       "    <tr>\n",
       "      <th>1</th>\n",
       "      <td>Boal</td>\n",
       "      <td>Anny</td>\n",
       "      <td>47</td>\n",
       "    </tr>\n",
       "    <tr>\n",
       "      <th>2</th>\n",
       "      <td>Boal</td>\n",
       "      <td>James</td>\n",
       "      <td>75</td>\n",
       "    </tr>\n",
       "    <tr>\n",
       "      <th>3</th>\n",
       "      <td>Lester</td>\n",
       "      <td>Sarahlynn</td>\n",
       "      <td>48</td>\n",
       "    </tr>\n",
       "    <tr>\n",
       "      <th>4</th>\n",
       "      <td>Lester</td>\n",
       "      <td>Carolynn</td>\n",
       "      <td>70</td>\n",
       "    </tr>\n",
       "  </tbody>\n",
       "</table>\n",
       "</div>"
      ],
      "text/plain": [
       "  Last Name First Name  Age\n",
       "0      Boal       Paul   45\n",
       "1      Boal       Anny   47\n",
       "2      Boal      James   75\n",
       "3    Lester  Sarahlynn   48\n",
       "4    Lester   Carolynn   70"
      ]
     },
     "execution_count": 2,
     "metadata": {},
     "output_type": "execute_result"
    }
   ],
   "source": [
    "df = pd.DataFrame([\n",
    "    ['Boal','Paul',45],\n",
    "    ['Boal','Anny',47],\n",
    "    ['Boal','James',75],\n",
    "    ['Lester','Sarahlynn',48],\n",
    "    ['Lester','Carolynn',70]\n",
    "], columns=['Last Name','First Name','Age'])\n",
    "\n",
    "df"
   ]
  },
  {
   "cell_type": "code",
   "execution_count": 3,
   "metadata": {},
   "outputs": [
    {
     "data": {
      "text/plain": [
       "Last Name\n",
       "Boal      3\n",
       "Lester    2\n",
       "Name: Last Name, dtype: int64"
      ]
     },
     "execution_count": 3,
     "metadata": {},
     "output_type": "execute_result"
    }
   ],
   "source": [
    "# Which family (based on Last Name) has the most people?\n",
    "\n",
    "# 1. Group by Last Name\n",
    "# 2. Count how many people are in each family\n",
    "# 3. Sort by value\n",
    "\n",
    "\n",
    "by_last_name = df.groupby('Last Name')\n",
    "family_count = by_last_name['Last Name'].count()\n",
    "family_sorted = family_count.sort_values(ascending=False)\n",
    "\n",
    "family_sorted"
   ]
  },
  {
   "cell_type": "code",
   "execution_count": 4,
   "metadata": {},
   "outputs": [
    {
     "data": {
      "text/plain": [
       "'Boal'"
      ]
     },
     "execution_count": 4,
     "metadata": {},
     "output_type": "execute_result"
    }
   ],
   "source": [
    "# 4. Extract the \"index\" (aka Last Name)\n",
    "# 5. Choose the first value\n",
    "\n",
    "top_family = list(family_sorted.index)[0]\n",
    "top_family"
   ]
  },
  {
   "cell_type": "code",
   "execution_count": 5,
   "metadata": {},
   "outputs": [
    {
     "data": {
      "text/plain": [
       "3"
      ]
     },
     "execution_count": 5,
     "metadata": {},
     "output_type": "execute_result"
    }
   ],
   "source": [
    "# How many members does that family have?\n",
    "\n",
    "# 6. Choose that family from the counts we already computed.\n",
    "\n",
    "family_count[top_family]"
   ]
  },
  {
   "cell_type": "code",
   "execution_count": 6,
   "metadata": {},
   "outputs": [
    {
     "data": {
      "text/plain": [
       "0.6"
      ]
     },
     "execution_count": 6,
     "metadata": {},
     "output_type": "execute_result"
    }
   ],
   "source": [
    "# What percent of total is that?\n",
    "\n",
    "# 7. Compute a total\n",
    "# 8. Compute the percent\n",
    "\n",
    "total = family_count.sum()\n",
    "pct = family_count[top_family] / total\n",
    "\n",
    "pct"
   ]
  },
  {
   "cell_type": "markdown",
   "metadata": {},
   "source": [
    "---\n",
    "\n",
    "### E12.01\n",
    "\n",
    "How many columns are there in this data frame?"
   ]
  },
  {
   "cell_type": "code",
   "execution_count": 7,
   "metadata": {},
   "outputs": [],
   "source": [
    "df = pd.read_csv('Hospital_General_Information.csv')"
   ]
  },
  {
   "cell_type": "code",
   "execution_count": 8,
   "metadata": {},
   "outputs": [
    {
     "data": {
      "text/plain": [
       "(5307, 38)"
      ]
     },
     "execution_count": 8,
     "metadata": {},
     "output_type": "execute_result"
    }
   ],
   "source": [
    "# 12.01.How many columns are there in this data frame?\n",
    "\n",
    "df.shape"
   ]
  },
  {
   "cell_type": "code",
   "execution_count": 9,
   "metadata": {},
   "outputs": [],
   "source": [
    "answers['E12.01'] = \"38\""
   ]
  },
  {
   "cell_type": "markdown",
   "metadata": {},
   "source": [
    "### E12.02\n",
    "\n",
    "How many hospitals are there in this file? (Each row is one hospital.)"
   ]
  },
  {
   "cell_type": "code",
   "execution_count": 10,
   "metadata": {},
   "outputs": [
    {
     "data": {
      "text/plain": [
       "5307"
      ]
     },
     "execution_count": 10,
     "metadata": {},
     "output_type": "execute_result"
    }
   ],
   "source": [
    "# 12.01.How many columns are there in this data file? (Each row is one hospital.)\n",
    "\n",
    "df.shape[0]"
   ]
  },
  {
   "cell_type": "code",
   "execution_count": 11,
   "metadata": {},
   "outputs": [],
   "source": [
    "answers['E12.02'] = \"5307\""
   ]
  },
  {
   "cell_type": "markdown",
   "metadata": {},
   "source": [
    "### E12.03\n",
    "\n",
    "How many hospitals from Missouri (state abbreviation MO) are in this file?"
   ]
  },
  {
   "cell_type": "code",
   "execution_count": 12,
   "metadata": {},
   "outputs": [
    {
     "data": {
      "text/html": [
       "<div>\n",
       "<style scoped>\n",
       "    .dataframe tbody tr th:only-of-type {\n",
       "        vertical-align: middle;\n",
       "    }\n",
       "\n",
       "    .dataframe tbody tr th {\n",
       "        vertical-align: top;\n",
       "    }\n",
       "\n",
       "    .dataframe thead th {\n",
       "        text-align: right;\n",
       "    }\n",
       "</style>\n",
       "<table border=\"1\" class=\"dataframe\">\n",
       "  <thead>\n",
       "    <tr style=\"text-align: right;\">\n",
       "      <th></th>\n",
       "      <th>Facility ID</th>\n",
       "      <th>Facility Name</th>\n",
       "      <th>Address</th>\n",
       "      <th>City</th>\n",
       "      <th>State</th>\n",
       "      <th>ZIP Code</th>\n",
       "      <th>County Name</th>\n",
       "      <th>Phone Number</th>\n",
       "      <th>Hospital Type</th>\n",
       "      <th>Hospital Ownership</th>\n",
       "      <th>...</th>\n",
       "      <th>Count of READM Measures Better</th>\n",
       "      <th>Count of READM Measures No Different</th>\n",
       "      <th>Count of READM Measures Worse</th>\n",
       "      <th>READM Group Footnote</th>\n",
       "      <th>Pt Exp Group Measure Count</th>\n",
       "      <th>Count of Facility Pt Exp Measures</th>\n",
       "      <th>Pt Exp Group Footnote</th>\n",
       "      <th>TE Group Measure Count</th>\n",
       "      <th>Count of Facility TE Measures</th>\n",
       "      <th>TE Group Footnote</th>\n",
       "    </tr>\n",
       "  </thead>\n",
       "  <tbody>\n",
       "    <tr>\n",
       "      <th>2661</th>\n",
       "      <td>260001</td>\n",
       "      <td>MERCY HOSPITAL JOPLIN</td>\n",
       "      <td>100 MERCY WAY</td>\n",
       "      <td>JOPLIN</td>\n",
       "      <td>MO</td>\n",
       "      <td>64804</td>\n",
       "      <td>JASPER</td>\n",
       "      <td>(417) 781-2727</td>\n",
       "      <td>Acute Care Hospitals</td>\n",
       "      <td>Voluntary non-profit - Church</td>\n",
       "      <td>...</td>\n",
       "      <td>0</td>\n",
       "      <td>6</td>\n",
       "      <td>4</td>\n",
       "      <td>NaN</td>\n",
       "      <td>8</td>\n",
       "      <td>8</td>\n",
       "      <td>NaN</td>\n",
       "      <td>12</td>\n",
       "      <td>10</td>\n",
       "      <td>NaN</td>\n",
       "    </tr>\n",
       "    <tr>\n",
       "      <th>2662</th>\n",
       "      <td>260005</td>\n",
       "      <td>SSM ST JOSEPH HEALTH CENTER</td>\n",
       "      <td>300 1ST CAPITOL DR</td>\n",
       "      <td>SAINT CHARLES</td>\n",
       "      <td>MO</td>\n",
       "      <td>63301</td>\n",
       "      <td>ST. CHARLES</td>\n",
       "      <td>(636) 947-5000</td>\n",
       "      <td>Acute Care Hospitals</td>\n",
       "      <td>Voluntary non-profit - Private</td>\n",
       "      <td>...</td>\n",
       "      <td>1</td>\n",
       "      <td>8</td>\n",
       "      <td>0</td>\n",
       "      <td>NaN</td>\n",
       "      <td>8</td>\n",
       "      <td>8</td>\n",
       "      <td>NaN</td>\n",
       "      <td>12</td>\n",
       "      <td>7</td>\n",
       "      <td>NaN</td>\n",
       "    </tr>\n",
       "    <tr>\n",
       "      <th>2663</th>\n",
       "      <td>260006</td>\n",
       "      <td>MOSAIC LIFE CARE AT ST JOSEPH</td>\n",
       "      <td>5325 FARAON STREET</td>\n",
       "      <td>SAINT JOSEPH</td>\n",
       "      <td>MO</td>\n",
       "      <td>64506</td>\n",
       "      <td>BUCHANAN</td>\n",
       "      <td>(816) 271-6000</td>\n",
       "      <td>Acute Care Hospitals</td>\n",
       "      <td>Voluntary non-profit - Private</td>\n",
       "      <td>...</td>\n",
       "      <td>0</td>\n",
       "      <td>9</td>\n",
       "      <td>2</td>\n",
       "      <td>NaN</td>\n",
       "      <td>8</td>\n",
       "      <td>8</td>\n",
       "      <td>NaN</td>\n",
       "      <td>12</td>\n",
       "      <td>10</td>\n",
       "      <td>NaN</td>\n",
       "    </tr>\n",
       "    <tr>\n",
       "      <th>2664</th>\n",
       "      <td>260009</td>\n",
       "      <td>BOTHWELL REGIONAL HEALTH CENTER</td>\n",
       "      <td>601 E 14TH ST</td>\n",
       "      <td>SEDALIA</td>\n",
       "      <td>MO</td>\n",
       "      <td>65302</td>\n",
       "      <td>PETTIS</td>\n",
       "      <td>(660) 826-8833</td>\n",
       "      <td>Acute Care Hospitals</td>\n",
       "      <td>Government - Local</td>\n",
       "      <td>...</td>\n",
       "      <td>0</td>\n",
       "      <td>8</td>\n",
       "      <td>2</td>\n",
       "      <td>NaN</td>\n",
       "      <td>8</td>\n",
       "      <td>8</td>\n",
       "      <td>NaN</td>\n",
       "      <td>12</td>\n",
       "      <td>9</td>\n",
       "      <td>NaN</td>\n",
       "    </tr>\n",
       "    <tr>\n",
       "      <th>2665</th>\n",
       "      <td>260011</td>\n",
       "      <td>SSM HEALTH ST MARY'S HOSPITAL JEFFERSON CITY</td>\n",
       "      <td>2505 MISSION DRIVE</td>\n",
       "      <td>JEFFERSON CITY</td>\n",
       "      <td>MO</td>\n",
       "      <td>65109</td>\n",
       "      <td>COLE</td>\n",
       "      <td>(573) 681-3000</td>\n",
       "      <td>Acute Care Hospitals</td>\n",
       "      <td>Proprietary</td>\n",
       "      <td>...</td>\n",
       "      <td>0</td>\n",
       "      <td>7</td>\n",
       "      <td>2</td>\n",
       "      <td>NaN</td>\n",
       "      <td>8</td>\n",
       "      <td>8</td>\n",
       "      <td>NaN</td>\n",
       "      <td>12</td>\n",
       "      <td>8</td>\n",
       "      <td>NaN</td>\n",
       "    </tr>\n",
       "    <tr>\n",
       "      <th>...</th>\n",
       "      <td>...</td>\n",
       "      <td>...</td>\n",
       "      <td>...</td>\n",
       "      <td>...</td>\n",
       "      <td>...</td>\n",
       "      <td>...</td>\n",
       "      <td>...</td>\n",
       "      <td>...</td>\n",
       "      <td>...</td>\n",
       "      <td>...</td>\n",
       "      <td>...</td>\n",
       "      <td>...</td>\n",
       "      <td>...</td>\n",
       "      <td>...</td>\n",
       "      <td>...</td>\n",
       "      <td>...</td>\n",
       "      <td>...</td>\n",
       "      <td>...</td>\n",
       "      <td>...</td>\n",
       "      <td>...</td>\n",
       "      <td>...</td>\n",
       "    </tr>\n",
       "    <tr>\n",
       "      <th>2775</th>\n",
       "      <td>264024</td>\n",
       "      <td>LAKELAND BEHAVIORAL HEALTH SYSTEM</td>\n",
       "      <td>440 S MARKET</td>\n",
       "      <td>SPRINGFIELD</td>\n",
       "      <td>MO</td>\n",
       "      <td>65806</td>\n",
       "      <td>GREENE</td>\n",
       "      <td>(417) 865-5581</td>\n",
       "      <td>Psychiatric</td>\n",
       "      <td>Proprietary</td>\n",
       "      <td>...</td>\n",
       "      <td>Not Available</td>\n",
       "      <td>Not Available</td>\n",
       "      <td>Not Available</td>\n",
       "      <td>19</td>\n",
       "      <td>Not Available</td>\n",
       "      <td>Not Available</td>\n",
       "      <td>19</td>\n",
       "      <td>Not Available</td>\n",
       "      <td>Not Available</td>\n",
       "      <td>19</td>\n",
       "    </tr>\n",
       "    <tr>\n",
       "      <th>2776</th>\n",
       "      <td>264030</td>\n",
       "      <td>SIGNATURE PSYCHIATRIC HOSPITAL</td>\n",
       "      <td>2900 CLAY EDWARDS DRIVE</td>\n",
       "      <td>NORTH KANSAS CITY</td>\n",
       "      <td>MO</td>\n",
       "      <td>64116</td>\n",
       "      <td>CLAY</td>\n",
       "      <td>(816) 691-5101</td>\n",
       "      <td>Psychiatric</td>\n",
       "      <td>Proprietary</td>\n",
       "      <td>...</td>\n",
       "      <td>Not Available</td>\n",
       "      <td>Not Available</td>\n",
       "      <td>Not Available</td>\n",
       "      <td>19</td>\n",
       "      <td>Not Available</td>\n",
       "      <td>Not Available</td>\n",
       "      <td>19</td>\n",
       "      <td>Not Available</td>\n",
       "      <td>Not Available</td>\n",
       "      <td>19</td>\n",
       "    </tr>\n",
       "    <tr>\n",
       "      <th>2777</th>\n",
       "      <td>264031</td>\n",
       "      <td>OSAGE BEACH CENTER FOR COGNITIVE DISORDERS</td>\n",
       "      <td>840 PASSOVER ROAD</td>\n",
       "      <td>OSAGE BEACH</td>\n",
       "      <td>MO</td>\n",
       "      <td>65065</td>\n",
       "      <td>CAMDEN</td>\n",
       "      <td>(573) 302-0319</td>\n",
       "      <td>Psychiatric</td>\n",
       "      <td>Proprietary</td>\n",
       "      <td>...</td>\n",
       "      <td>Not Available</td>\n",
       "      <td>Not Available</td>\n",
       "      <td>Not Available</td>\n",
       "      <td>19</td>\n",
       "      <td>Not Available</td>\n",
       "      <td>Not Available</td>\n",
       "      <td>19</td>\n",
       "      <td>Not Available</td>\n",
       "      <td>Not Available</td>\n",
       "      <td>19</td>\n",
       "    </tr>\n",
       "    <tr>\n",
       "      <th>2778</th>\n",
       "      <td>264032</td>\n",
       "      <td>CENTERPOINTE HOSPITAL OF COLUMBIA</td>\n",
       "      <td>1201 INTERNATIONAL DRIVE</td>\n",
       "      <td>COLUMBIA</td>\n",
       "      <td>MO</td>\n",
       "      <td>65202</td>\n",
       "      <td>BOONE</td>\n",
       "      <td>(855) 623-7016</td>\n",
       "      <td>Psychiatric</td>\n",
       "      <td>Proprietary</td>\n",
       "      <td>...</td>\n",
       "      <td>Not Available</td>\n",
       "      <td>Not Available</td>\n",
       "      <td>Not Available</td>\n",
       "      <td>19</td>\n",
       "      <td>Not Available</td>\n",
       "      <td>Not Available</td>\n",
       "      <td>19</td>\n",
       "      <td>Not Available</td>\n",
       "      <td>Not Available</td>\n",
       "      <td>19</td>\n",
       "    </tr>\n",
       "    <tr>\n",
       "      <th>2779</th>\n",
       "      <td>264033</td>\n",
       "      <td>PERIMETER BEHAVIORAL HOSPITAL OF SPRINGFIELD</td>\n",
       "      <td>2828 N NATIONAL</td>\n",
       "      <td>SPRINGFIELD</td>\n",
       "      <td>MO</td>\n",
       "      <td>65803</td>\n",
       "      <td>GREENE</td>\n",
       "      <td>(417) 837-4000</td>\n",
       "      <td>Psychiatric</td>\n",
       "      <td>Proprietary</td>\n",
       "      <td>...</td>\n",
       "      <td>Not Available</td>\n",
       "      <td>Not Available</td>\n",
       "      <td>Not Available</td>\n",
       "      <td>19</td>\n",
       "      <td>Not Available</td>\n",
       "      <td>Not Available</td>\n",
       "      <td>19</td>\n",
       "      <td>Not Available</td>\n",
       "      <td>Not Available</td>\n",
       "      <td>19</td>\n",
       "    </tr>\n",
       "  </tbody>\n",
       "</table>\n",
       "<p>119 rows × 38 columns</p>\n",
       "</div>"
      ],
      "text/plain": [
       "     Facility ID                                 Facility Name  \\\n",
       "2661      260001                         MERCY HOSPITAL JOPLIN   \n",
       "2662      260005                   SSM ST JOSEPH HEALTH CENTER   \n",
       "2663      260006                 MOSAIC LIFE CARE AT ST JOSEPH   \n",
       "2664      260009               BOTHWELL REGIONAL HEALTH CENTER   \n",
       "2665      260011  SSM HEALTH ST MARY'S HOSPITAL JEFFERSON CITY   \n",
       "...          ...                                           ...   \n",
       "2775      264024             LAKELAND BEHAVIORAL HEALTH SYSTEM   \n",
       "2776      264030                SIGNATURE PSYCHIATRIC HOSPITAL   \n",
       "2777      264031    OSAGE BEACH CENTER FOR COGNITIVE DISORDERS   \n",
       "2778      264032             CENTERPOINTE HOSPITAL OF COLUMBIA   \n",
       "2779      264033  PERIMETER BEHAVIORAL HOSPITAL OF SPRINGFIELD   \n",
       "\n",
       "                       Address               City State  ZIP Code  \\\n",
       "2661             100 MERCY WAY             JOPLIN    MO     64804   \n",
       "2662        300 1ST CAPITOL DR      SAINT CHARLES    MO     63301   \n",
       "2663        5325 FARAON STREET       SAINT JOSEPH    MO     64506   \n",
       "2664             601 E 14TH ST            SEDALIA    MO     65302   \n",
       "2665        2505 MISSION DRIVE     JEFFERSON CITY    MO     65109   \n",
       "...                        ...                ...   ...       ...   \n",
       "2775              440 S MARKET        SPRINGFIELD    MO     65806   \n",
       "2776   2900 CLAY EDWARDS DRIVE  NORTH KANSAS CITY    MO     64116   \n",
       "2777         840 PASSOVER ROAD        OSAGE BEACH    MO     65065   \n",
       "2778  1201 INTERNATIONAL DRIVE           COLUMBIA    MO     65202   \n",
       "2779           2828 N NATIONAL        SPRINGFIELD    MO     65803   \n",
       "\n",
       "      County Name    Phone Number         Hospital Type  \\\n",
       "2661       JASPER  (417) 781-2727  Acute Care Hospitals   \n",
       "2662  ST. CHARLES  (636) 947-5000  Acute Care Hospitals   \n",
       "2663     BUCHANAN  (816) 271-6000  Acute Care Hospitals   \n",
       "2664       PETTIS  (660) 826-8833  Acute Care Hospitals   \n",
       "2665         COLE  (573) 681-3000  Acute Care Hospitals   \n",
       "...           ...             ...                   ...   \n",
       "2775       GREENE  (417) 865-5581           Psychiatric   \n",
       "2776         CLAY  (816) 691-5101           Psychiatric   \n",
       "2777       CAMDEN  (573) 302-0319           Psychiatric   \n",
       "2778        BOONE  (855) 623-7016           Psychiatric   \n",
       "2779       GREENE  (417) 837-4000           Psychiatric   \n",
       "\n",
       "                  Hospital Ownership  ... Count of READM Measures Better  \\\n",
       "2661   Voluntary non-profit - Church  ...                              0   \n",
       "2662  Voluntary non-profit - Private  ...                              1   \n",
       "2663  Voluntary non-profit - Private  ...                              0   \n",
       "2664              Government - Local  ...                              0   \n",
       "2665                     Proprietary  ...                              0   \n",
       "...                              ...  ...                            ...   \n",
       "2775                     Proprietary  ...                  Not Available   \n",
       "2776                     Proprietary  ...                  Not Available   \n",
       "2777                     Proprietary  ...                  Not Available   \n",
       "2778                     Proprietary  ...                  Not Available   \n",
       "2779                     Proprietary  ...                  Not Available   \n",
       "\n",
       "     Count of READM Measures No Different Count of READM Measures Worse  \\\n",
       "2661                                    6                             4   \n",
       "2662                                    8                             0   \n",
       "2663                                    9                             2   \n",
       "2664                                    8                             2   \n",
       "2665                                    7                             2   \n",
       "...                                   ...                           ...   \n",
       "2775                        Not Available                 Not Available   \n",
       "2776                        Not Available                 Not Available   \n",
       "2777                        Not Available                 Not Available   \n",
       "2778                        Not Available                 Not Available   \n",
       "2779                        Not Available                 Not Available   \n",
       "\n",
       "     READM Group Footnote Pt Exp Group Measure Count  \\\n",
       "2661                  NaN                          8   \n",
       "2662                  NaN                          8   \n",
       "2663                  NaN                          8   \n",
       "2664                  NaN                          8   \n",
       "2665                  NaN                          8   \n",
       "...                   ...                        ...   \n",
       "2775                   19              Not Available   \n",
       "2776                   19              Not Available   \n",
       "2777                   19              Not Available   \n",
       "2778                   19              Not Available   \n",
       "2779                   19              Not Available   \n",
       "\n",
       "     Count of Facility Pt Exp Measures Pt Exp Group Footnote  \\\n",
       "2661                                 8                   NaN   \n",
       "2662                                 8                   NaN   \n",
       "2663                                 8                   NaN   \n",
       "2664                                 8                   NaN   \n",
       "2665                                 8                   NaN   \n",
       "...                                ...                   ...   \n",
       "2775                     Not Available                    19   \n",
       "2776                     Not Available                    19   \n",
       "2777                     Not Available                    19   \n",
       "2778                     Not Available                    19   \n",
       "2779                     Not Available                    19   \n",
       "\n",
       "     TE Group Measure Count Count of Facility TE Measures TE Group Footnote  \n",
       "2661                     12                            10               NaN  \n",
       "2662                     12                             7               NaN  \n",
       "2663                     12                            10               NaN  \n",
       "2664                     12                             9               NaN  \n",
       "2665                     12                             8               NaN  \n",
       "...                     ...                           ...               ...  \n",
       "2775          Not Available                 Not Available                19  \n",
       "2776          Not Available                 Not Available                19  \n",
       "2777          Not Available                 Not Available                19  \n",
       "2778          Not Available                 Not Available                19  \n",
       "2779          Not Available                 Not Available                19  \n",
       "\n",
       "[119 rows x 38 columns]"
      ]
     },
     "execution_count": 12,
     "metadata": {},
     "output_type": "execute_result"
    }
   ],
   "source": [
    "# 12.03.How many hospitals from Missouri (state abbreviation MO) are in this file\n",
    "\n",
    "MO_count=df.loc[df['State']=='MO']\n",
    "MO_count"
   ]
  },
  {
   "cell_type": "code",
   "execution_count": 13,
   "metadata": {},
   "outputs": [],
   "source": [
    "answers['E12.03'] = \"119\""
   ]
  },
  {
   "cell_type": "markdown",
   "metadata": {},
   "source": [
    "### E12.04\n",
    "\n",
    "How many different ZIP Codes from Misouri are represented in this file?"
   ]
  },
  {
   "cell_type": "code",
   "execution_count": 14,
   "metadata": {},
   "outputs": [
    {
     "data": {
      "text/plain": [
       "109"
      ]
     },
     "execution_count": 14,
     "metadata": {},
     "output_type": "execute_result"
    }
   ],
   "source": [
    "# 12.04.How many different ZIP Codes from Missouri are represented in this file?\n",
    "\n",
    "len(MO_count['ZIP Code'].value_counts())"
   ]
  },
  {
   "cell_type": "code",
   "execution_count": 15,
   "metadata": {},
   "outputs": [],
   "source": [
    "answers['E12.04'] = \"109\""
   ]
  },
  {
   "cell_type": "markdown",
   "metadata": {},
   "source": [
    "### E12.05\n",
    "\n",
    "Which of those ZIP Codes has the most hospitals?  If it's a tie, submit your answer as a list of ZIP Codes.  Make sure your answer is submitted as a string or list of strings. Do not submit the ZIP Code values as numbers.\n"
   ]
  },
  {
   "cell_type": "code",
   "execution_count": 16,
   "metadata": {},
   "outputs": [
    {
     "data": {
      "text/plain": [
       "76104    5\n",
       "99508    5\n",
       "75093    5\n",
       "77030    5\n",
       "83221    4\n",
       "        ..\n",
       "58545    1\n",
       "60623    1\n",
       "91342    1\n",
       "81101    1\n",
       "65536    1\n",
       "Name: ZIP Code, Length: 4674, dtype: int64"
      ]
     },
     "execution_count": 16,
     "metadata": {},
     "output_type": "execute_result"
    }
   ],
   "source": [
    "# 12.05.Which of those ZIP Codes has the most hospitals? If it's a tie, submit your answer as a list of ZIP Codes. Make sure\n",
    "\n",
    "df[\"ZIP Code\"].value_counts()"
   ]
  },
  {
   "cell_type": "code",
   "execution_count": 17,
   "metadata": {},
   "outputs": [],
   "source": [
    "answers['E12.05'] = \"75093\", \"99508\", \"76104\", \"77030\""
   ]
  },
  {
   "cell_type": "markdown",
   "metadata": {},
   "source": [
    "### E12.06\n",
    "\n",
    "Which state has the most hospitals?"
   ]
  },
  {
   "cell_type": "code",
   "execution_count": 18,
   "metadata": {},
   "outputs": [
    {
     "data": {
      "text/plain": [
       "'TX'"
      ]
     },
     "execution_count": 18,
     "metadata": {},
     "output_type": "execute_result"
    }
   ],
   "source": [
    "# 12.06.Which state has the most hospitals?\n",
    "\n",
    "state_count= df.pivot_table(index='State', aggfunc='size')\n",
    "state_count.idxmax()"
   ]
  },
  {
   "cell_type": "code",
   "execution_count": 19,
   "metadata": {},
   "outputs": [],
   "source": [
    "answers['E12.06'] = \"TX\""
   ]
  },
  {
   "cell_type": "markdown",
   "metadata": {},
   "source": [
    "### E12.07\n",
    "\n",
    "How many different Hospital Types are there in this file?"
   ]
  },
  {
   "cell_type": "code",
   "execution_count": 20,
   "metadata": {},
   "outputs": [
    {
     "data": {
      "text/plain": [
       "5"
      ]
     },
     "execution_count": 20,
     "metadata": {},
     "output_type": "execute_result"
    }
   ],
   "source": [
    "# 12.07.How many different Hospital Types are there in this file?\\\n",
    "\n",
    "len(df['Hospital Type'].value_counts())"
   ]
  },
  {
   "cell_type": "code",
   "execution_count": 21,
   "metadata": {},
   "outputs": [],
   "source": [
    "answers['E12.07'] = \"5\""
   ]
  },
  {
   "cell_type": "markdown",
   "metadata": {},
   "source": [
    "### E12.08\n",
    "\n",
    "Which Hospital Type has the greatest number of files?"
   ]
  },
  {
   "cell_type": "code",
   "execution_count": 22,
   "metadata": {},
   "outputs": [
    {
     "data": {
      "text/plain": [
       "Acute Care Hospitals                  3223\n",
       "Critical Access Hospitals             1359\n",
       "Psychiatric                            599\n",
       "Childrens                               91\n",
       "Acute Care - Department of Defense      35\n",
       "Name: Hospital Type, dtype: int64"
      ]
     },
     "execution_count": 22,
     "metadata": {},
     "output_type": "execute_result"
    }
   ],
   "source": [
    "# 12.08.Which Hospital Type has the greatest number of files?\n",
    "\n",
    "df['Hospital Type'].value_counts()"
   ]
  },
  {
   "cell_type": "code",
   "execution_count": 23,
   "metadata": {},
   "outputs": [],
   "source": [
    "answers['E12.08'] = \"Acute Care Hospitals\""
   ]
  },
  {
   "cell_type": "markdown",
   "metadata": {},
   "source": [
    "### E12.09\n",
    "\n",
    "What percent of the total hospital count (represented as ##.##%, rounded to two decimal places) is represented in that Hospital Type?"
   ]
  },
  {
   "cell_type": "code",
   "execution_count": 24,
   "metadata": {},
   "outputs": [
    {
     "data": {
      "text/plain": [
       "60.73"
      ]
     },
     "execution_count": 24,
     "metadata": {},
     "output_type": "execute_result"
    }
   ],
   "source": [
    "# 12.09.What percent of the total hospital count (represented as ##.##%, rounded to two decimal places) is represented in the\n",
    "\n",
    "round(df['Hospital Type'].value_counts().max()/df.shape[0]*100,2)"
   ]
  },
  {
   "cell_type": "code",
   "execution_count": 25,
   "metadata": {},
   "outputs": [],
   "source": [
    "answers['E12.09'] = \"60.73\""
   ]
  },
  {
   "cell_type": "markdown",
   "metadata": {},
   "source": [
    "### E12.10\n",
    "\n",
    "What percent of the total hospital count (represented as ##.##%, rounded to two decimal places) provide Emergency Services?"
   ]
  },
  {
   "cell_type": "code",
   "execution_count": 26,
   "metadata": {},
   "outputs": [
    {
     "data": {
      "text/plain": [
       "83.89"
      ]
     },
     "execution_count": 26,
     "metadata": {},
     "output_type": "execute_result"
    }
   ],
   "source": [
    "# 12.10.What percent of the total hospital count (represented as ##.##%, rounded to to decimal places) provide Emergency\n",
    "\n",
    "ES=df.loc[df['Emergency Services']==\"Yes\"]\n",
    "round(ES.shape[0]/df.shape[0]*100,2)"
   ]
  },
  {
   "cell_type": "code",
   "execution_count": 27,
   "metadata": {},
   "outputs": [],
   "source": [
    "answers['E12.10'] = \"83.89\""
   ]
  },
  {
   "cell_type": "markdown",
   "metadata": {},
   "source": [
    "---\n",
    "\n",
    "Checking Your Work\n",
    "---\n",
    "\n",
    "After completing your work above and running each cell, you can check your answers by running the code below. \n",
    "\n",
    "The easiest way to do this is to use the `Kernel` -> `Restart Kernel and Run All Cells` menu option. This option restarts Python and runs every cell from top to bottom until it encounters an exception of some kind.  It will stop after running the cell below and outputing a summary of how many answers you have correct or incorrect.\n"
   ]
  },
  {
   "cell_type": "code",
   "execution_count": 28,
   "metadata": {
    "jupyter": {
     "source_hidden": true
    }
   },
   "outputs": [
    {
     "name": "stdout",
     "output_type": "stream",
     "text": [
      "     Q#                         Yours  Correct?\n",
      " E12.01                            38        OK\n",
      " E12.02                          5307        OK\n",
      " E12.03                           119        OK\n",
      " E12.04                           109        OK\n",
      " E12.05['75093', '99508', '76104', '77030']        NO\n",
      " E12.06                            TX        OK\n",
      " E12.07                             5        OK\n",
      " E12.08          Acute Care Hospitals        OK\n",
      " E12.09                         60.73        OK\n",
      " E12.10                         83.89        OK\n"
     ]
    }
   ],
   "source": [
    "import getpass\n",
    "import boto3\n",
    "import json\n",
    "\n",
    "test = {\n",
    "    \"user\": getpass.getuser(),\n",
    "    \"week\": \"week12EB\",\n",
    "    \"answers\": answers\n",
    "}\n",
    "\n",
    "client = boto3.client('lambda')\n",
    "\n",
    "response = client.invoke(\n",
    "    FunctionName=\"hds5210\",\n",
    "    InvocationType=\"RequestResponse\",\n",
    "    Payload=json.dumps(test))\n",
    "\n",
    "result = json.loads(response['Payload'].read().decode('utf-8'))\n",
    "# print(result)\n",
    "\n",
    "try:\n",
    "    print('{0:>7}{1:>30}{2:>10}'.format('Q#','Yours','Correct?'))\n",
    "    for row in result.get('results'):\n",
    "        print('{0:>7}{1:>30}{2:>10}'.format(str(row[0]),str(row[1]),str(row[2])))\n",
    "except:\n",
    "    print(result)"
   ]
  },
  {
   "cell_type": "markdown",
   "metadata": {},
   "source": [
    "## Submit your work to github in your week 13 folder by 12/5 11:59 PM"
   ]
  }
 ],
 "metadata": {
  "kernelspec": {
   "display_name": "Python 3",
   "language": "python",
   "name": "python3"
  },
  "language_info": {
   "codemirror_mode": {
    "name": "ipython",
    "version": 3
   },
   "file_extension": ".py",
   "mimetype": "text/x-python",
   "name": "python",
   "nbconvert_exporter": "python",
   "pygments_lexer": "ipython3",
   "version": "3.6.7"
  }
 },
 "nbformat": 4,
 "nbformat_minor": 4
}
